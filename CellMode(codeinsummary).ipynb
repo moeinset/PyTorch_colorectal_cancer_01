{
  "nbformat": 4,
  "nbformat_minor": 0,
  "metadata": {
    "colab": {
      "provenance": [],
      "authorship_tag": "ABX9TyNQMxeFUAx1dyCI4IX/yNeg",
      "include_colab_link": true
    },
    "kernelspec": {
      "name": "python3",
      "display_name": "Python 3"
    },
    "language_info": {
      "name": "python"
    },
    "gpuClass": "standard",
    "accelerator": "GPU",
    "widgets": {
      "application/vnd.jupyter.widget-state+json": {
        "4650763b59dd4698bbce44b1d7f6c942": {
          "model_module": "@jupyter-widgets/controls",
          "model_name": "HBoxModel",
          "model_module_version": "1.5.0",
          "state": {
            "_dom_classes": [],
            "_model_module": "@jupyter-widgets/controls",
            "_model_module_version": "1.5.0",
            "_model_name": "HBoxModel",
            "_view_count": null,
            "_view_module": "@jupyter-widgets/controls",
            "_view_module_version": "1.5.0",
            "_view_name": "HBoxView",
            "box_style": "",
            "children": [
              "IPY_MODEL_3fe864dfe7244ab09ed8e1a3187e415e",
              "IPY_MODEL_bd6135345a41437fa1e94836134aa1b0",
              "IPY_MODEL_fdb37f7645584183a9a0786e3dec40a5"
            ],
            "layout": "IPY_MODEL_15a1d5ae991047f29593e92cebec78b9"
          }
        },
        "3fe864dfe7244ab09ed8e1a3187e415e": {
          "model_module": "@jupyter-widgets/controls",
          "model_name": "HTMLModel",
          "model_module_version": "1.5.0",
          "state": {
            "_dom_classes": [],
            "_model_module": "@jupyter-widgets/controls",
            "_model_module_version": "1.5.0",
            "_model_name": "HTMLModel",
            "_view_count": null,
            "_view_module": "@jupyter-widgets/controls",
            "_view_module_version": "1.5.0",
            "_view_name": "HTMLView",
            "description": "",
            "description_tooltip": null,
            "layout": "IPY_MODEL_cd16109a9fe14398896c2793464baefc",
            "placeholder": "​",
            "style": "IPY_MODEL_8796f9be5cb049eb99ff644d0f35582c",
            "value": "100%"
          }
        },
        "bd6135345a41437fa1e94836134aa1b0": {
          "model_module": "@jupyter-widgets/controls",
          "model_name": "FloatProgressModel",
          "model_module_version": "1.5.0",
          "state": {
            "_dom_classes": [],
            "_model_module": "@jupyter-widgets/controls",
            "_model_module_version": "1.5.0",
            "_model_name": "FloatProgressModel",
            "_view_count": null,
            "_view_module": "@jupyter-widgets/controls",
            "_view_module_version": "1.5.0",
            "_view_name": "ProgressView",
            "bar_style": "success",
            "description": "",
            "description_tooltip": null,
            "layout": "IPY_MODEL_789d538dbcda41d7b731af820074607e",
            "max": 40,
            "min": 0,
            "orientation": "horizontal",
            "style": "IPY_MODEL_029a47515fa54bc9a8cba1e72bd553e1",
            "value": 40
          }
        },
        "fdb37f7645584183a9a0786e3dec40a5": {
          "model_module": "@jupyter-widgets/controls",
          "model_name": "HTMLModel",
          "model_module_version": "1.5.0",
          "state": {
            "_dom_classes": [],
            "_model_module": "@jupyter-widgets/controls",
            "_model_module_version": "1.5.0",
            "_model_name": "HTMLModel",
            "_view_count": null,
            "_view_module": "@jupyter-widgets/controls",
            "_view_module_version": "1.5.0",
            "_view_name": "HTMLView",
            "description": "",
            "description_tooltip": null,
            "layout": "IPY_MODEL_61f8dbdfc6954cd69fbe6888ecd0da86",
            "placeholder": "​",
            "style": "IPY_MODEL_69b05c29d3e34d82a3e46d833d9f749e",
            "value": " 40/40 [01:24&lt;00:00,  2.11s/it]"
          }
        },
        "15a1d5ae991047f29593e92cebec78b9": {
          "model_module": "@jupyter-widgets/base",
          "model_name": "LayoutModel",
          "model_module_version": "1.2.0",
          "state": {
            "_model_module": "@jupyter-widgets/base",
            "_model_module_version": "1.2.0",
            "_model_name": "LayoutModel",
            "_view_count": null,
            "_view_module": "@jupyter-widgets/base",
            "_view_module_version": "1.2.0",
            "_view_name": "LayoutView",
            "align_content": null,
            "align_items": null,
            "align_self": null,
            "border": null,
            "bottom": null,
            "display": null,
            "flex": null,
            "flex_flow": null,
            "grid_area": null,
            "grid_auto_columns": null,
            "grid_auto_flow": null,
            "grid_auto_rows": null,
            "grid_column": null,
            "grid_gap": null,
            "grid_row": null,
            "grid_template_areas": null,
            "grid_template_columns": null,
            "grid_template_rows": null,
            "height": null,
            "justify_content": null,
            "justify_items": null,
            "left": null,
            "margin": null,
            "max_height": null,
            "max_width": null,
            "min_height": null,
            "min_width": null,
            "object_fit": null,
            "object_position": null,
            "order": null,
            "overflow": null,
            "overflow_x": null,
            "overflow_y": null,
            "padding": null,
            "right": null,
            "top": null,
            "visibility": null,
            "width": null
          }
        },
        "cd16109a9fe14398896c2793464baefc": {
          "model_module": "@jupyter-widgets/base",
          "model_name": "LayoutModel",
          "model_module_version": "1.2.0",
          "state": {
            "_model_module": "@jupyter-widgets/base",
            "_model_module_version": "1.2.0",
            "_model_name": "LayoutModel",
            "_view_count": null,
            "_view_module": "@jupyter-widgets/base",
            "_view_module_version": "1.2.0",
            "_view_name": "LayoutView",
            "align_content": null,
            "align_items": null,
            "align_self": null,
            "border": null,
            "bottom": null,
            "display": null,
            "flex": null,
            "flex_flow": null,
            "grid_area": null,
            "grid_auto_columns": null,
            "grid_auto_flow": null,
            "grid_auto_rows": null,
            "grid_column": null,
            "grid_gap": null,
            "grid_row": null,
            "grid_template_areas": null,
            "grid_template_columns": null,
            "grid_template_rows": null,
            "height": null,
            "justify_content": null,
            "justify_items": null,
            "left": null,
            "margin": null,
            "max_height": null,
            "max_width": null,
            "min_height": null,
            "min_width": null,
            "object_fit": null,
            "object_position": null,
            "order": null,
            "overflow": null,
            "overflow_x": null,
            "overflow_y": null,
            "padding": null,
            "right": null,
            "top": null,
            "visibility": null,
            "width": null
          }
        },
        "8796f9be5cb049eb99ff644d0f35582c": {
          "model_module": "@jupyter-widgets/controls",
          "model_name": "DescriptionStyleModel",
          "model_module_version": "1.5.0",
          "state": {
            "_model_module": "@jupyter-widgets/controls",
            "_model_module_version": "1.5.0",
            "_model_name": "DescriptionStyleModel",
            "_view_count": null,
            "_view_module": "@jupyter-widgets/base",
            "_view_module_version": "1.2.0",
            "_view_name": "StyleView",
            "description_width": ""
          }
        },
        "789d538dbcda41d7b731af820074607e": {
          "model_module": "@jupyter-widgets/base",
          "model_name": "LayoutModel",
          "model_module_version": "1.2.0",
          "state": {
            "_model_module": "@jupyter-widgets/base",
            "_model_module_version": "1.2.0",
            "_model_name": "LayoutModel",
            "_view_count": null,
            "_view_module": "@jupyter-widgets/base",
            "_view_module_version": "1.2.0",
            "_view_name": "LayoutView",
            "align_content": null,
            "align_items": null,
            "align_self": null,
            "border": null,
            "bottom": null,
            "display": null,
            "flex": null,
            "flex_flow": null,
            "grid_area": null,
            "grid_auto_columns": null,
            "grid_auto_flow": null,
            "grid_auto_rows": null,
            "grid_column": null,
            "grid_gap": null,
            "grid_row": null,
            "grid_template_areas": null,
            "grid_template_columns": null,
            "grid_template_rows": null,
            "height": null,
            "justify_content": null,
            "justify_items": null,
            "left": null,
            "margin": null,
            "max_height": null,
            "max_width": null,
            "min_height": null,
            "min_width": null,
            "object_fit": null,
            "object_position": null,
            "order": null,
            "overflow": null,
            "overflow_x": null,
            "overflow_y": null,
            "padding": null,
            "right": null,
            "top": null,
            "visibility": null,
            "width": null
          }
        },
        "029a47515fa54bc9a8cba1e72bd553e1": {
          "model_module": "@jupyter-widgets/controls",
          "model_name": "ProgressStyleModel",
          "model_module_version": "1.5.0",
          "state": {
            "_model_module": "@jupyter-widgets/controls",
            "_model_module_version": "1.5.0",
            "_model_name": "ProgressStyleModel",
            "_view_count": null,
            "_view_module": "@jupyter-widgets/base",
            "_view_module_version": "1.2.0",
            "_view_name": "StyleView",
            "bar_color": null,
            "description_width": ""
          }
        },
        "61f8dbdfc6954cd69fbe6888ecd0da86": {
          "model_module": "@jupyter-widgets/base",
          "model_name": "LayoutModel",
          "model_module_version": "1.2.0",
          "state": {
            "_model_module": "@jupyter-widgets/base",
            "_model_module_version": "1.2.0",
            "_model_name": "LayoutModel",
            "_view_count": null,
            "_view_module": "@jupyter-widgets/base",
            "_view_module_version": "1.2.0",
            "_view_name": "LayoutView",
            "align_content": null,
            "align_items": null,
            "align_self": null,
            "border": null,
            "bottom": null,
            "display": null,
            "flex": null,
            "flex_flow": null,
            "grid_area": null,
            "grid_auto_columns": null,
            "grid_auto_flow": null,
            "grid_auto_rows": null,
            "grid_column": null,
            "grid_gap": null,
            "grid_row": null,
            "grid_template_areas": null,
            "grid_template_columns": null,
            "grid_template_rows": null,
            "height": null,
            "justify_content": null,
            "justify_items": null,
            "left": null,
            "margin": null,
            "max_height": null,
            "max_width": null,
            "min_height": null,
            "min_width": null,
            "object_fit": null,
            "object_position": null,
            "order": null,
            "overflow": null,
            "overflow_x": null,
            "overflow_y": null,
            "padding": null,
            "right": null,
            "top": null,
            "visibility": null,
            "width": null
          }
        },
        "69b05c29d3e34d82a3e46d833d9f749e": {
          "model_module": "@jupyter-widgets/controls",
          "model_name": "DescriptionStyleModel",
          "model_module_version": "1.5.0",
          "state": {
            "_model_module": "@jupyter-widgets/controls",
            "_model_module_version": "1.5.0",
            "_model_name": "DescriptionStyleModel",
            "_view_count": null,
            "_view_module": "@jupyter-widgets/base",
            "_view_module_version": "1.2.0",
            "_view_name": "StyleView",
            "description_width": ""
          }
        }
      }
    }
  },
  "cells": [
    {
      "cell_type": "markdown",
      "metadata": {
        "id": "view-in-github",
        "colab_type": "text"
      },
      "source": [
        "<a href=\"https://colab.research.google.com/github/moeinset/PyTorch_colorectal_cancer_01/blob/main/CellMode(codeinsummary).ipynb\" target=\"_parent\"><img src=\"https://colab.research.google.com/assets/colab-badge.svg\" alt=\"Open In Colab\"/></a>"
      ]
    },
    {
      "cell_type": "code",
      "execution_count": null,
      "metadata": {
        "colab": {
          "base_uri": "https://localhost:8080/",
          "height": 35
        },
        "id": "SPoIO7DiYEaD",
        "outputId": "e52ca973-cc51-4eb4-9920-8e5f5a46a736"
      },
      "outputs": [
        {
          "output_type": "execute_result",
          "data": {
            "text/plain": [
              "'1.12.1+cu113'"
            ],
            "application/vnd.google.colaboratory.intrinsic+json": {
              "type": "string"
            }
          },
          "metadata": {},
          "execution_count": 1
        }
      ],
      "source": [
        "import torch\n",
        "from torch import nn\n",
        "\n",
        "torch.__version__"
      ]
    },
    {
      "cell_type": "code",
      "source": [
        "# Setup device-agnostic code\n",
        "device = \"cuda\" if torch.cuda.is_available() else \"cpu\"\n",
        "device"
      ],
      "metadata": {
        "colab": {
          "base_uri": "https://localhost:8080/",
          "height": 35
        },
        "id": "aIGt7YvXfnK9",
        "outputId": "feed3da1-c4a6-4024-d9cb-6c73960ec38e"
      },
      "execution_count": null,
      "outputs": [
        {
          "output_type": "execute_result",
          "data": {
            "text/plain": [
              "'cuda'"
            ],
            "application/vnd.google.colaboratory.intrinsic+json": {
              "type": "string"
            }
          },
          "metadata": {},
          "execution_count": 2
        }
      ]
    },
    {
      "cell_type": "code",
      "source": [
        "import requests\n",
        "import zipfile\n",
        "from pathlib import Path\n",
        "\n",
        "# Setup path to data folder\n",
        "data_path = Path(\"data/\")\n",
        "image_path = data_path / \"tumor_stroma_lympho\"\n",
        "\n",
        "# If the image folder doesn't exist, download it and prepare it... \n",
        "if image_path.is_dir():\n",
        "    print(f\"{image_path} directory exists.\")\n",
        "else:\n",
        "    print(f\"Did not find {image_path} directory, creating one...\")\n",
        "    image_path.mkdir(parents=True, exist_ok=True)\n",
        "    \n",
        "    # Download data\n",
        "    with open(data_path / \"tumor_stroma_lympho.zip\", \"wb\") as f:\n",
        "        request = requests.get(\"https://cdn-130.anonfiles.com/8ep9p1F8y5/04b33f1f-1667216246/tumor_stroma_lympho.zip\")\n",
        "        print(\"Downloading ...\")\n",
        "        f.write(request.content)\n",
        "\n",
        "    # Unzip data\n",
        "    with zipfile.ZipFile(data_path / \"tumor_stroma_lympho.zip\", \"r\") as zip_ref:\n",
        "        print(\"Unzipping data...\") \n",
        "        zip_ref.extractall(image_path)"
      ],
      "metadata": {
        "colab": {
          "base_uri": "https://localhost:8080/"
        },
        "id": "NDlUxzgbgF5_",
        "outputId": "e0daed9e-6544-413d-9cd2-5382c9ada833"
      },
      "execution_count": null,
      "outputs": [
        {
          "output_type": "stream",
          "name": "stdout",
          "text": [
            "Did not find data/tumor_stroma_lympho directory, creating one...\n",
            "Downloading ...\n",
            "Unzipping data...\n"
          ]
        }
      ]
    },
    {
      "cell_type": "code",
      "source": [
        "import os\n",
        "def walk_through_dir(dir_path):\n",
        "  \"\"\"\n",
        "  Walks through dir_path returning its contents.\n",
        "  Args:\n",
        "    dir_path (str or pathlib.Path): target directory\n",
        "  \n",
        "  Returns:\n",
        "    A print out of:\n",
        "      number of subdiretories in dir_path\n",
        "      number of images (files) in each subdirectory\n",
        "      name of each subdirectory\n",
        "  \"\"\"\n",
        "  for dirpath, dirnames, filenames in os.walk(dir_path):\n",
        "    print(f\"There are {len(dirnames)} directories and {len(filenames)} images in '{dirpath}'.\")"
      ],
      "metadata": {
        "id": "Cl0l7QcazYE6"
      },
      "execution_count": null,
      "outputs": []
    },
    {
      "cell_type": "code",
      "source": [
        "walk_through_dir(image_path)"
      ],
      "metadata": {
        "colab": {
          "base_uri": "https://localhost:8080/"
        },
        "id": "EfMbpEOnzhQF",
        "outputId": "42229f02-c7b9-46f5-d5bd-931b65329be2"
      },
      "execution_count": null,
      "outputs": [
        {
          "output_type": "stream",
          "name": "stdout",
          "text": [
            "There are 2 directories and 0 images in 'data/tumor_stroma_lympho'.\n",
            "There are 3 directories and 0 images in 'data/tumor_stroma_lympho/train'.\n",
            "There are 0 directories and 500 images in 'data/tumor_stroma_lympho/train/01_TUMOR'.\n",
            "There are 0 directories and 500 images in 'data/tumor_stroma_lympho/train/02_STROMA'.\n",
            "There are 0 directories and 500 images in 'data/tumor_stroma_lympho/train/04_LYMPHO'.\n",
            "There are 3 directories and 0 images in 'data/tumor_stroma_lympho/test'.\n",
            "There are 0 directories and 125 images in 'data/tumor_stroma_lympho/test/01_TUMOR'.\n",
            "There are 0 directories and 125 images in 'data/tumor_stroma_lympho/test/02_STROMA'.\n",
            "There are 0 directories and 125 images in 'data/tumor_stroma_lympho/test/04_LYMPHO'.\n"
          ]
        }
      ]
    },
    {
      "cell_type": "code",
      "source": [
        "# Setup train and testing paths\n",
        "train_dir = image_path / \"train\"\n",
        "test_dir = image_path / \"test\"\n",
        "\n",
        "train_dir, test_dir"
      ],
      "metadata": {
        "colab": {
          "base_uri": "https://localhost:8080/"
        },
        "id": "9DP28oarzhXx",
        "outputId": "796584f3-2208-4e9c-da19-a6e6a7b94522"
      },
      "execution_count": null,
      "outputs": [
        {
          "output_type": "execute_result",
          "data": {
            "text/plain": [
              "(PosixPath('data/tumor_stroma_lympho/train'),\n",
              " PosixPath('data/tumor_stroma_lympho/test'))"
            ]
          },
          "metadata": {},
          "execution_count": 8
        }
      ]
    },
    {
      "cell_type": "code",
      "source": [
        "import random\n",
        "from PIL import Image\n",
        "\n",
        "# Set seed\n",
        "#random.seed(42) \n",
        "\n",
        "# 1. Get all image paths (* means \"any combination\")\n",
        "image_path_list = list(image_path.glob(\"*/*/*.tif\"))\n",
        "\n",
        "# 2. Get random image path\n",
        "random_image_path = random.choice(image_path_list)\n",
        "\n",
        "# 3. Get image class from path name (the image class is the name of the directory where the image is stored)\n",
        "image_class = random_image_path.parent.stem\n",
        "\n",
        "# 4. Open image\n",
        "img = Image.open(random_image_path)\n",
        "\n",
        "# 5. Print metadata\n",
        "print(f\"Random image path: {random_image_path}\")\n",
        "print(f\"Image class: {image_class}\")\n",
        "print(f\"Image height: {img.height}\") \n",
        "print(f\"Image width: {img.width}\")\n",
        "img"
      ],
      "metadata": {
        "colab": {
          "base_uri": "https://localhost:8080/",
          "height": 238
        },
        "id": "peYlc3Djzn6H",
        "outputId": "9983c2be-6f02-422b-bfaa-55e5bffc48a8"
      },
      "execution_count": null,
      "outputs": [
        {
          "output_type": "stream",
          "name": "stdout",
          "text": [
            "Random image path: data/tumor_stroma_lympho/train/02_STROMA/11D64_CRC-Prim-HE-06_003.tif_Row_451_Col_1051.tif\n",
            "Image class: 02_STROMA\n",
            "Image height: 150\n",
            "Image width: 150\n"
          ]
        },
        {
          "output_type": "execute_result",
          "data": {
            "text/plain": [
              "<PIL.TiffImagePlugin.TiffImageFile image mode=RGB size=150x150 at 0x7F73EEEB9390>"
            ],
            "image/png": "[encoded data removed]"
          },
          "metadata": {},
          "execution_count": 17
        }
      ]
    },
    {
      "cell_type": "code",
      "source": [
        "import torch\n",
        "from torch.utils.data import DataLoader\n",
        "from torchvision import datasets, transforms"
      ],
      "metadata": {
        "id": "egCXpjNdz2Nz"
      },
      "execution_count": null,
      "outputs": []
    },
    {
      "cell_type": "code",
      "source": [
        "# Create training transform with TrivialAugment\n",
        "train_transform_trivial_augment = transforms.Compose([\n",
        "    transforms.Resize((64, 64)),\n",
        "    transforms.TrivialAugmentWide(num_magnitude_bins=31),\n",
        "    transforms.ToTensor() \n",
        "])\n",
        "\n",
        "# Create testing transform (no data augmentation)\n",
        "test_transform = transforms.Compose([\n",
        "    transforms.Resize((64, 64)),\n",
        "    transforms.ToTensor()\n",
        "])"
      ],
      "metadata": {
        "id": "B48_79Kf3Dh_"
      },
      "execution_count": null,
      "outputs": []
    },
    {
      "cell_type": "code",
      "source": [
        "# Turn image folders into Datasets\n",
        "train_data_augmented = datasets.ImageFolder(train_dir, transform=train_transform_trivial_augment)\n",
        "test_data_simple = datasets.ImageFolder(test_dir, transform=test_transform)\n",
        "\n",
        "train_data_augmented, test_data_simple"
      ],
      "metadata": {
        "colab": {
          "base_uri": "https://localhost:8080/"
        },
        "id": "brIRCigc3Iqb",
        "outputId": "974fc917-2479-47d1-85a8-2d2d8ef0d867"
      },
      "execution_count": null,
      "outputs": [
        {
          "output_type": "execute_result",
          "data": {
            "text/plain": [
              "(Dataset ImageFolder\n",
              "     Number of datapoints: 1500\n",
              "     Root location: data/tumor_stroma_lympho/train\n",
              "     StandardTransform\n",
              " Transform: Compose(\n",
              "                Resize(size=(64, 64), interpolation=bilinear, max_size=None, antialias=None)\n",
              "                TrivialAugmentWide(num_magnitude_bins=31, interpolation=InterpolationMode.NEAREST, fill=None)\n",
              "                ToTensor()\n",
              "            ), Dataset ImageFolder\n",
              "     Number of datapoints: 375\n",
              "     Root location: data/tumor_stroma_lympho/test\n",
              "     StandardTransform\n",
              " Transform: Compose(\n",
              "                Resize(size=(64, 64), interpolation=bilinear, max_size=None, antialias=None)\n",
              "                ToTensor()\n",
              "            ))"
            ]
          },
          "metadata": {},
          "execution_count": 63
        }
      ]
    },
    {
      "cell_type": "code",
      "source": [
        "# Turn Datasets into DataLoader's\n",
        "import os\n",
        "BATCH_SIZE = 32\n",
        "NUM_WORKERS = os.cpu_count()\n",
        "\n",
        "torch.manual_seed(42)\n",
        "train_dataloader_augmented = DataLoader(train_data_augmented, \n",
        "                                        batch_size=BATCH_SIZE, \n",
        "                                        shuffle=True,\n",
        "                                        num_workers=NUM_WORKERS)\n",
        "\n",
        "test_dataloader_simple = DataLoader(test_data_simple, \n",
        "                                    batch_size=BATCH_SIZE, \n",
        "                                    shuffle=False, \n",
        "                                    num_workers=NUM_WORKERS)\n",
        "\n",
        "train_dataloader_augmented, test_dataloader_simple"
      ],
      "metadata": {
        "colab": {
          "base_uri": "https://localhost:8080/"
        },
        "id": "yZxdk4_W3XgU",
        "outputId": "5b82a2c3-96a3-4e12-ff5c-14fe729d0a55"
      },
      "execution_count": null,
      "outputs": [
        {
          "output_type": "execute_result",
          "data": {
            "text/plain": [
              "(<torch.utils.data.dataloader.DataLoader at 0x7f73e60a59d0>,\n",
              " <torch.utils.data.dataloader.DataLoader at 0x7f73e60a5f90>)"
            ]
          },
          "metadata": {},
          "execution_count": 64
        }
      ]
    },
    {
      "cell_type": "code",
      "source": [
        "class Modelws(nn.Module):\n",
        " \n",
        "    def __init__(self, input_shape: int, hidden_units: int, output_shape: int) -> None:\n",
        "        super().__init__()\n",
        "        self.conv_block_1 = nn.Sequential(\n",
        "            nn.Conv2d(in_channels=input_shape, \n",
        "                      out_channels=hidden_units, \n",
        "                      kernel_size=3, \n",
        "                      stride=1, # default\n",
        "                      padding=1), # options = \"valid\" (no padding) or \"same\" (output has same shape as input) or int for specific number \n",
        "            nn.ReLU(),\n",
        "            nn.Conv2d(in_channels=hidden_units, \n",
        "                      out_channels=hidden_units,\n",
        "                      kernel_size=3,\n",
        "                      stride=1,\n",
        "                      padding=1),\n",
        "            nn.ReLU(),\n",
        "            nn.MaxPool2d(kernel_size=2,\n",
        "                         stride=2) # default stride value is same as kernel_size\n",
        "        )\n",
        "        self.conv_block_2 = nn.Sequential(\n",
        "            nn.Conv2d(hidden_units, hidden_units, kernel_size=3, padding=1),\n",
        "            nn.ReLU(),\n",
        "            nn.Conv2d(hidden_units, hidden_units, kernel_size=3, padding=1),\n",
        "            nn.ReLU(),\n",
        "            nn.MaxPool2d(2)\n",
        "        )\n",
        "        self.classifier = nn.Sequential(\n",
        "            nn.Flatten(),\n",
        "            nn.Linear(in_features=hidden_units*16*16,\n",
        "                      out_features=output_shape)\n",
        "        )\n",
        "    \n",
        "    def forward(self, x: torch.Tensor):\n",
        "        x = self.conv_block_1(x)\n",
        "        # print(x.shape)\n",
        "        x = self.conv_block_2(x)\n",
        "        # print(x.shape)\n",
        "        x = self.classifier(x)\n",
        "        # print(x.shape)\n",
        "        return x\n",
        "        # return self.classifier(self.conv_block_2(self.conv_block_1(x))) # <- leverage the benefits of operator fusion\n",
        "\n"
      ],
      "metadata": {
        "id": "O9ZL4HBV4Q4S"
      },
      "execution_count": null,
      "outputs": []
    },
    {
      "cell_type": "code",
      "source": [
        "torch.manual_seed(42)\n",
        "model_1 = Modelws(input_shape=3, # number of color channels (3 for RGB) \n",
        "                  hidden_units=10, \n",
        "                  output_shape=len(train_data_augmented.classes)).to(device)\n",
        "model_1"
      ],
      "metadata": {
        "colab": {
          "base_uri": "https://localhost:8080/"
        },
        "id": "_qtZQZ247zAs",
        "outputId": "0899be11-8a96-4c32-eae8-2ee5f2027dd3"
      },
      "execution_count": null,
      "outputs": [
        {
          "output_type": "execute_result",
          "data": {
            "text/plain": [
              "Modelws(\n",
              "  (conv_block_1): Sequential(\n",
              "    (0): Conv2d(3, 10, kernel_size=(3, 3), stride=(1, 1), padding=(1, 1))\n",
              "    (1): ReLU()\n",
              "    (2): Conv2d(10, 10, kernel_size=(3, 3), stride=(1, 1), padding=(1, 1))\n",
              "    (3): ReLU()\n",
              "    (4): MaxPool2d(kernel_size=2, stride=2, padding=0, dilation=1, ceil_mode=False)\n",
              "  )\n",
              "  (conv_block_2): Sequential(\n",
              "    (0): Conv2d(10, 10, kernel_size=(3, 3), stride=(1, 1), padding=(1, 1))\n",
              "    (1): ReLU()\n",
              "    (2): Conv2d(10, 10, kernel_size=(3, 3), stride=(1, 1), padding=(1, 1))\n",
              "    (3): ReLU()\n",
              "    (4): MaxPool2d(kernel_size=2, stride=2, padding=0, dilation=1, ceil_mode=False)\n",
              "  )\n",
              "  (classifier): Sequential(\n",
              "    (0): Flatten(start_dim=1, end_dim=-1)\n",
              "    (1): Linear(in_features=2560, out_features=3, bias=True)\n",
              "  )\n",
              ")"
            ]
          },
          "metadata": {},
          "execution_count": 66
        }
      ]
    },
    {
      "cell_type": "code",
      "source": [
        "def train_step(model: torch.nn.Module, \n",
        "               dataloader: torch.utils.data.DataLoader, \n",
        "               loss_fn: torch.nn.Module, \n",
        "               optimizer: torch.optim.Optimizer):\n",
        "    # Put model in train mode\n",
        "    model.train()\n",
        "    \n",
        "    # Setup train loss and train accuracy values\n",
        "    train_loss, train_acc = 0, 0\n",
        "    \n",
        "    # Loop through data loader data batches\n",
        "    for batch, (X, y) in enumerate(dataloader):\n",
        "        # Send data to target device\n",
        "        X, y = X.to(device), y.to(device)\n",
        "\n",
        "        # 1. Forward pass\n",
        "        y_pred = model(X)\n",
        "\n",
        "        # 2. Calculate  and accumulate loss\n",
        "        loss = loss_fn(y_pred, y)\n",
        "        train_loss += loss.item() \n",
        "\n",
        "        # 3. Optimizer zero grad\n",
        "        optimizer.zero_grad()\n",
        "\n",
        "        # 4. Loss backward\n",
        "        loss.backward()\n",
        "\n",
        "        # 5. Optimizer step\n",
        "        optimizer.step()\n",
        "\n",
        "        # Calculate and accumulate accuracy metric across all batches\n",
        "        y_pred_class = torch.argmax(torch.softmax(y_pred, dim=1), dim=1)\n",
        "        train_acc += (y_pred_class == y).sum().item()/len(y_pred)\n",
        "\n",
        "    # Adjust metrics to get average loss and accuracy per batch \n",
        "    train_loss = train_loss / len(dataloader)\n",
        "    train_acc = train_acc / len(dataloader)\n",
        "    return train_loss, train_acc"
      ],
      "metadata": {
        "id": "cdHKrM7W9yCD"
      },
      "execution_count": null,
      "outputs": []
    },
    {
      "cell_type": "code",
      "source": [
        "def test_step(model: torch.nn.Module, \n",
        "              dataloader: torch.utils.data.DataLoader, \n",
        "              loss_fn: torch.nn.Module):\n",
        "    # Put model in eval mode\n",
        "    model.eval() \n",
        "    \n",
        "    # Setup test loss and test accuracy values\n",
        "    test_loss, test_acc = 0, 0\n",
        "    \n",
        "    # Turn on inference context manager\n",
        "    with torch.inference_mode():\n",
        "        # Loop through DataLoader batches\n",
        "        for batch, (X, y) in enumerate(dataloader):\n",
        "            # Send data to target device\n",
        "            X, y = X.to(device), y.to(device)\n",
        "    \n",
        "            # 1. Forward pass\n",
        "            test_pred_logits = model(X)\n",
        "\n",
        "            # 2. Calculate and accumulate loss\n",
        "            loss = loss_fn(test_pred_logits, y)\n",
        "            test_loss += loss.item()\n",
        "            \n",
        "            # Calculate and accumulate accuracy\n",
        "            test_pred_labels = test_pred_logits.argmax(dim=1)\n",
        "            test_acc += ((test_pred_labels == y).sum().item()/len(test_pred_labels))\n",
        "            \n",
        "    # Adjust metrics to get average loss and accuracy per batch \n",
        "    test_loss = test_loss / len(dataloader)\n",
        "    test_acc = test_acc / len(dataloader)\n",
        "    return test_loss, test_acc"
      ],
      "metadata": {
        "id": "x84NQVuv90-k"
      },
      "execution_count": null,
      "outputs": []
    },
    {
      "cell_type": "code",
      "source": [
        "from tqdm.auto import tqdm\n",
        "\n",
        "# 1. Take in various parameters required for training and test steps\n",
        "def train(model: torch.nn.Module, \n",
        "          train_dataloader: torch.utils.data.DataLoader, \n",
        "          test_dataloader: torch.utils.data.DataLoader, \n",
        "          optimizer: torch.optim.Optimizer,\n",
        "          loss_fn: torch.nn.Module = nn.CrossEntropyLoss(),\n",
        "          epochs: int = 5):\n",
        "    \n",
        "    # 2. Create empty results dictionary\n",
        "    results = {\"train_loss\": [],\n",
        "        \"train_acc\": [],\n",
        "        \"test_loss\": [],\n",
        "        \"test_acc\": []\n",
        "    }\n",
        "    \n",
        "    # 3. Loop through training and testing steps for a number of epochs\n",
        "    for epoch in tqdm(range(epochs)):\n",
        "        train_loss, train_acc = train_step(model=model,\n",
        "                                           dataloader=train_dataloader,\n",
        "                                           loss_fn=loss_fn,\n",
        "                                           optimizer=optimizer)\n",
        "        test_loss, test_acc = test_step(model=model,\n",
        "            dataloader=test_dataloader,\n",
        "            loss_fn=loss_fn)\n",
        "        \n",
        "        # 4. Print out what's happening\n",
        "        print(\n",
        "            f\"Epoch: {epoch+1} | \"\n",
        "            f\"train_loss: {train_loss:.4f} | \"\n",
        "            f\"train_acc: {train_acc:.4f} | \"\n",
        "            f\"test_loss: {test_loss:.4f} | \"\n",
        "            f\"test_acc: {test_acc:.4f}\"\n",
        "        )\n",
        "\n",
        "        # 5. Update results dictionary\n",
        "        results[\"train_loss\"].append(train_loss)\n",
        "        results[\"train_acc\"].append(train_acc)\n",
        "        results[\"test_loss\"].append(test_loss)\n",
        "        results[\"test_acc\"].append(test_acc)\n",
        "\n",
        "    # 6. Return the filled results at the end of the epochs\n",
        "    return results"
      ],
      "metadata": {
        "id": "L_qemn6o9SZU"
      },
      "execution_count": null,
      "outputs": []
    },
    {
      "cell_type": "code",
      "source": [
        "# Set random seeds\n",
        "torch.manual_seed(42) \n",
        "torch.cuda.manual_seed(42)\n",
        "\n",
        "# Set number of epochs\n",
        "NUM_EPOCHS = 40\n",
        "\n",
        "# Setup loss function and optimizer\n",
        "loss_fn = nn.CrossEntropyLoss()\n",
        "optimizer = torch.optim.Adam(params=model_1.parameters(), lr=0.001)\n",
        "\n",
        "# Start the timer\n",
        "from timeit import default_timer as timer \n",
        "start_time = timer()\n",
        "\n",
        "# Train model_1\n",
        "model_1_results = train(model=model_1, \n",
        "                        train_dataloader=train_dataloader_augmented,\n",
        "                        test_dataloader=test_dataloader_simple,\n",
        "                        optimizer=optimizer,\n",
        "                        loss_fn=loss_fn, \n",
        "                        epochs=NUM_EPOCHS)\n",
        "\n",
        "# End the timer and print out how long it took\n",
        "end_time = timer()\n",
        "print(f\"Total training time: {end_time-start_time:.3f} seconds\")"
      ],
      "metadata": {
        "colab": {
          "base_uri": "https://localhost:8080/",
          "height": 782,
          "referenced_widgets": [
            "4650763b59dd4698bbce44b1d7f6c942",
            "3fe864dfe7244ab09ed8e1a3187e415e",
            "bd6135345a41437fa1e94836134aa1b0",
            "fdb37f7645584183a9a0786e3dec40a5",
            "15a1d5ae991047f29593e92cebec78b9",
            "cd16109a9fe14398896c2793464baefc",
            "8796f9be5cb049eb99ff644d0f35582c",
            "789d538dbcda41d7b731af820074607e",
            "029a47515fa54bc9a8cba1e72bd553e1",
            "61f8dbdfc6954cd69fbe6888ecd0da86",
            "69b05c29d3e34d82a3e46d833d9f749e"
          ]
        },
        "id": "I217l4Hp8pzP",
        "outputId": "36f16204-2f00-4821-9127-8b2c7b47c2f3"
      },
      "execution_count": null,
      "outputs": [
        {
          "output_type": "display_data",
          "data": {
            "text/plain": [
              "  0%|          | 0/40 [00:00<?, ?it/s]"
            ],
            "application/vnd.jupyter.widget-view+json": {
              "version_major": 2,
              "version_minor": 0,
              "model_id": "4650763b59dd4698bbce44b1d7f6c942"
            }
          },
          "metadata": {}
        },
        {
          "output_type": "stream",
          "name": "stdout",
          "text": [
            "Epoch: 1 | train_loss: 1.0290 | train_acc: 0.4651 | test_loss: 0.7104 | test_acc: 0.6392\n",
            "Epoch: 2 | train_loss: 0.7413 | train_acc: 0.6272 | test_loss: 0.5624 | test_acc: 0.7054\n",
            "Epoch: 3 | train_loss: 0.6970 | train_acc: 0.6626 | test_loss: 0.5015 | test_acc: 0.8294\n",
            "Epoch: 4 | train_loss: 0.6612 | train_acc: 0.7187 | test_loss: 0.4259 | test_acc: 0.8199\n",
            "Epoch: 5 | train_loss: 0.5390 | train_acc: 0.7945 | test_loss: 0.4787 | test_acc: 0.8825\n",
            "Epoch: 6 | train_loss: 0.4970 | train_acc: 0.8227 | test_loss: 0.4703 | test_acc: 0.7281\n",
            "Epoch: 7 | train_loss: 0.5019 | train_acc: 0.8131 | test_loss: 0.2996 | test_acc: 0.9226\n",
            "Epoch: 8 | train_loss: 0.4354 | train_acc: 0.8469 | test_loss: 0.2793 | test_acc: 0.9292\n",
            "Epoch: 9 | train_loss: 0.4632 | train_acc: 0.8213 | test_loss: 0.2719 | test_acc: 0.8834\n",
            "Epoch: 10 | train_loss: 0.4215 | train_acc: 0.8419 | test_loss: 0.2087 | test_acc: 0.9553\n",
            "Epoch: 11 | train_loss: 0.4400 | train_acc: 0.8447 | test_loss: 0.3127 | test_acc: 0.8893\n",
            "Epoch: 12 | train_loss: 0.3891 | train_acc: 0.8640 | test_loss: 0.1904 | test_acc: 0.9475\n",
            "Epoch: 13 | train_loss: 0.3906 | train_acc: 0.8627 | test_loss: 0.1828 | test_acc: 0.9355\n",
            "Epoch: 14 | train_loss: 0.3588 | train_acc: 0.8725 | test_loss: 0.2370 | test_acc: 0.9246\n",
            "Epoch: 15 | train_loss: 0.4492 | train_acc: 0.8535 | test_loss: 0.1714 | test_acc: 0.9537\n",
            "Epoch: 16 | train_loss: 0.3369 | train_acc: 0.8720 | test_loss: 0.1468 | test_acc: 0.9589\n",
            "Epoch: 17 | train_loss: 0.3275 | train_acc: 0.8899 | test_loss: 0.1753 | test_acc: 0.9511\n",
            "Epoch: 18 | train_loss: 0.3700 | train_acc: 0.8766 | test_loss: 0.2716 | test_acc: 0.9116\n",
            "Epoch: 19 | train_loss: 0.3431 | train_acc: 0.8820 | test_loss: 0.2289 | test_acc: 0.9079\n",
            "Epoch: 20 | train_loss: 0.3281 | train_acc: 0.8781 | test_loss: 0.1794 | test_acc: 0.9209\n",
            "Epoch: 21 | train_loss: 0.3524 | train_acc: 0.8757 | test_loss: 0.1795 | test_acc: 0.9355\n",
            "Epoch: 22 | train_loss: 0.3043 | train_acc: 0.8895 | test_loss: 0.2051 | test_acc: 0.9240\n",
            "Epoch: 23 | train_loss: 0.3083 | train_acc: 0.8839 | test_loss: 0.1419 | test_acc: 0.9433\n",
            "Epoch: 24 | train_loss: 0.2983 | train_acc: 0.8900 | test_loss: 0.2038 | test_acc: 0.9250\n",
            "Epoch: 25 | train_loss: 0.2938 | train_acc: 0.8892 | test_loss: 0.2049 | test_acc: 0.9042\n",
            "Epoch: 26 | train_loss: 0.3263 | train_acc: 0.8801 | test_loss: 0.1941 | test_acc: 0.9475\n",
            "Epoch: 27 | train_loss: 0.3104 | train_acc: 0.8871 | test_loss: 0.1135 | test_acc: 0.9563\n",
            "Epoch: 28 | train_loss: 0.2742 | train_acc: 0.8941 | test_loss: 0.1574 | test_acc: 0.9391\n",
            "Epoch: 29 | train_loss: 0.3050 | train_acc: 0.8824 | test_loss: 0.1404 | test_acc: 0.9537\n",
            "Epoch: 30 | train_loss: 0.3062 | train_acc: 0.8950 | test_loss: 0.1254 | test_acc: 0.9641\n",
            "Epoch: 31 | train_loss: 0.2919 | train_acc: 0.8884 | test_loss: 0.1289 | test_acc: 0.9641\n",
            "Epoch: 32 | train_loss: 0.2566 | train_acc: 0.9007 | test_loss: 0.1507 | test_acc: 0.9511\n",
            "Epoch: 33 | train_loss: 0.2792 | train_acc: 0.9054 | test_loss: 0.1382 | test_acc: 0.9485\n",
            "Epoch: 34 | train_loss: 0.2715 | train_acc: 0.8933 | test_loss: 0.2006 | test_acc: 0.9271\n",
            "Epoch: 35 | train_loss: 0.3059 | train_acc: 0.8891 | test_loss: 0.1624 | test_acc: 0.9459\n",
            "Epoch: 36 | train_loss: 0.2933 | train_acc: 0.8879 | test_loss: 0.1399 | test_acc: 0.9485\n",
            "Epoch: 37 | train_loss: 0.2552 | train_acc: 0.8980 | test_loss: 0.1028 | test_acc: 0.9745\n",
            "Epoch: 38 | train_loss: 0.2635 | train_acc: 0.9007 | test_loss: 0.1205 | test_acc: 0.9641\n",
            "Epoch: 39 | train_loss: 0.2855 | train_acc: 0.8920 | test_loss: 0.1353 | test_acc: 0.9589\n",
            "Epoch: 40 | train_loss: 0.2658 | train_acc: 0.8941 | test_loss: 0.1166 | test_acc: 0.9719\n",
            "Total training time: 84.276 seconds\n"
          ]
        }
      ]
    },
    {
      "cell_type": "code",
      "source": [
        "model_1_results.keys()"
      ],
      "metadata": {
        "colab": {
          "base_uri": "https://localhost:8080/"
        },
        "id": "CsilsFft_uGc",
        "outputId": "cc8df4b5-833f-4505-902c-b3226b70fa30"
      },
      "execution_count": null,
      "outputs": [
        {
          "output_type": "execute_result",
          "data": {
            "text/plain": [
              "dict_keys(['train_loss', 'train_acc', 'test_loss', 'test_acc'])"
            ]
          },
          "metadata": {},
          "execution_count": 71
        }
      ]
    },
    {
      "cell_type": "code",
      "source": [
        "import matplotlib.pyplot as plt\n"
      ],
      "metadata": {
        "id": "26jjM5FlAsy3"
      },
      "execution_count": null,
      "outputs": []
    },
    {
      "cell_type": "code",
      "source": [
        "def plot_loss_curves(results):\n",
        "    \"\"\"Plots training curves of a results dictionary.\n",
        "\n",
        "    Args:\n",
        "        results (dict): dictionary containing list of values, e.g.\n",
        "            {\"train_loss\": [...],\n",
        "             \"train_acc\": [...],\n",
        "             \"test_loss\": [...],\n",
        "             \"test_acc\": [...]}\n",
        "    \"\"\"\n",
        "    \n",
        "    # Get the loss values of the results dictionary (training and test)\n",
        "    loss = results['train_loss']\n",
        "    test_loss = results['test_loss']\n",
        "\n",
        "    # Get the accuracy values of the results dictionary (training and test)\n",
        "    accuracy = results['train_acc']\n",
        "    test_accuracy = results['test_acc']\n",
        "\n",
        "    # Figure out how many epochs there were\n",
        "    epochs = range(len(results['train_loss']))\n",
        "\n",
        "    # Setup a plot \n",
        "    plt.figure(figsize=(15, 7))\n",
        "\n",
        "    # Plot loss\n",
        "    plt.subplot(1, 2, 1)\n",
        "    plt.plot(epochs, loss, label='train_loss')\n",
        "    plt.plot(epochs, test_loss, label='test_loss')\n",
        "    plt.title('Loss')\n",
        "    plt.xlabel('Epochs')\n",
        "    plt.legend()\n",
        "\n",
        "    # Plot accuracy\n",
        "    plt.subplot(1, 2, 2)\n",
        "    plt.plot(epochs, accuracy, label='train_accuracy')\n",
        "    plt.plot(epochs, test_accuracy, label='test_accuracy')\n",
        "    plt.title('Accuracy')\n",
        "    plt.xlabel('Epochs')\n",
        "    plt.legend();"
      ],
      "metadata": {
        "id": "DOwRimsr9_17"
      },
      "execution_count": null,
      "outputs": []
    },
    {
      "cell_type": "code",
      "source": [
        "plot_loss_curves(model_1_results)"
      ],
      "metadata": {
        "colab": {
          "base_uri": "https://localhost:8080/",
          "height": 458
        },
        "id": "bhrzEkEJAjon",
        "outputId": "eb2c8f46-ebe7-4ea8-fbfe-8339595926bf"
      },
      "execution_count": null,
      "outputs": [
        {
          "output_type": "display_data",
          "data": {
            "text/plain": [
              "<Figure size 1080x504 with 2 Axes>"
            ],
            "image/png": "[encoded data removed]"
          },
          "metadata": {
            "needs_background": "light"
          }
        }
      ]
    }
  ]
}